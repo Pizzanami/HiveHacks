{
  "nbformat": 4,
  "nbformat_minor": 0,
  "metadata": {
    "colab": {
      "provenance": []
    },
    "kernelspec": {
      "name": "python3",
      "display_name": "Python 3"
    },
    "language_info": {
      "name": "python"
    }
  },
  "cells": [
    {
      "cell_type": "markdown",
      "source": [
        "# Limpieza de datos de la DANAE filtrado por giro económico de la actividad"
      ],
      "metadata": {
        "id": "87hz5lGmsBgx"
      }
    },
    {
      "cell_type": "code",
      "execution_count": 2,
      "metadata": {
        "id": "WnDHp_hsZ_IS"
      },
      "outputs": [],
      "source": [
        "import pandas as pd\n",
        "import geopandas as gpd\n",
        "from shapely.geometry import Point\n",
        "\n",
        "filepath = '/content/denue_inegi_11_.csv' # Path al dataset\n",
        "\n",
        "data = pd.read_csv(filepath, encoding='latin-1') # Lectura del CSV con codificacion específica"
      ]
    },
    {
      "cell_type": "code",
      "source": [
        "# Limpieza de las columnas innecesarias\n",
        "\n",
        "clean_data = data.drop(['CLEE', 'NOM_ESTAB', 'RAZ_SOCIAL', 'TIPO_VIAL', 'NOM_VIAL', 'TIPO_V_E_1',\n",
        "                       'NOM_V_E_1', 'TIPO_V_E_2', 'NOM_V_E_2', 'TIPO_V_E_3', 'NOM_V_E_3', 'NUMERO_EXT',\n",
        "                       'LETRA_EXT', 'EDIFICIO', 'EDIFICIO_E', 'NUMERO_INT', 'LETRA_INT',\n",
        "                       'TIPO_ASENT', 'NOMB_ASENT', 'TIPOCENCOM', 'NOM_CENCOM', 'NUM_LOCAL',\n",
        "                       'COD_POSTAL', 'CVE_ENT', 'ENTIDAD', 'CVE_MUN', 'CVE_LOC',\n",
        "                       'AGEB', 'MANZANA', 'TELEFONO', 'CORREOELEC', 'WWW',\n",
        "                       'TIPOUNIECO', 'FECHA_ALTA'], axis=1)\n"
      ],
      "metadata": {
        "id": "R2WXCj-kbVcf"
      },
      "execution_count": null,
      "outputs": []
    },
    {
      "cell_type": "code",
      "source": [
        "# Carga de actividades Manufactureras 2024 del archivo CSV y conversion a SHP\n",
        "\n",
        "# print(clean_data['PER_OCU'].unique())\n",
        "# print(clean_data['NOMBRE_ACT'].unique())\n",
        "# print(pd.factorize(clean_data['NOMBRE_ACT'])[0])\n",
        "\n",
        "# Claves delimitadas a través de informacion con referencia en: https://www.inegi.org.mx/app/mapa/denue/default.aspx\n",
        "data_manufactura24 = clean_data.drop(clean_data[(clean_data['CODIGO_ACT'] < 310000)].index, axis=0)\n",
        "data_manufactura24 = clean_data.drop(clean_data[(clean_data['CODIGO_ACT'] > 339999)].index, axis=0)\n",
        "data_manufactura24['PER_OCU_NUMERIC'] = pd.factorize(data_manufactura24['PER_OCU'])[0]\n",
        "data_manufactura24['NOMBRE_ACT_NUMERIC'] = pd.factorize(data_manufactura24['NOMBRE_ACT'])[0]\n",
        "data_manufactura24['y'] = data_manufactura24['LATITUD'].astype(float)\n",
        "data_manufactura24['x'] = data_manufactura24['LONGITUD'].astype(float)\n",
        "\n",
        "data_manufactura24 = data_manufactura24.drop(['LATITUD', 'LONGITUD'], axis=1)\n",
        "\n",
        "# print(data_manufactura24)\n",
        "\n",
        "# Pasar cvs a shp:\n",
        "\n",
        "data_manufactura24.to_csv(\"data_manufactura24.csv\")\n",
        "\n",
        "# Lee el archivo CSV\n",
        "data_to_shp = pd.read_csv(\"/content/data_manufactura24.csv\")\n",
        "\n",
        "# Asegúrate de que tienes columnas de latitud y longitud (ajusta los nombres de las columnas si es necesario)\n",
        "# Por ejemplo, si tienes columnas 'lat' y 'lon' para latitud y longitud:\n",
        "data_to_shp['geometry'] = data_to_shp.apply(lambda row: Point(row['x'], row['y']), axis=1)\n",
        "\n",
        "# Convierte el DataFrame de pandas a GeoDataFrame de geopandas\n",
        "geo_clean_data = gpd.GeoDataFrame(data_to_shp, geometry='geometry')\n",
        "\n",
        "# Establece el sistema de coordenadas adecuado (CRS).\n",
        "# El CRS depende de los datos, un CRS común es WGS84 (EPSG:4326).\n",
        "geo_clean_data.set_crs(epsg=4326, inplace=True)\n",
        "\n",
        "# Guarda el GeoDataFrame como un archivo shapefile (.shp)\n",
        "geo_clean_data.to_file(\"data_manufactura24.shp\", driver='ESRI Shapefile')"
      ],
      "metadata": {
        "id": "CSFNgDbAtvFc"
      },
      "execution_count": null,
      "outputs": []
    },
    {
      "cell_type": "code",
      "source": [
        "# Carga de actividades Mineras 2024 del archivo CSV y conversion a SHP\n",
        "\n",
        "# Claves delimitadas a través de informacion con referencia en: https://www.inegi.org.mx/app/mapa/denue/default.aspx\n",
        "data_mineria24 = clean_data.drop(clean_data[(clean_data['CODIGO_ACT'] < 210000)].index, axis=0)\n",
        "data_mineria24 = clean_data.drop(clean_data[(clean_data['CODIGO_ACT'] > 219999)].index, axis=0)\n",
        "data_mineria24['PER_OCU_NUMERIC'] = pd.factorize(data_mineria24['PER_OCU'])[0]\n",
        "data_mineria24['NOMBRE_ACT_NUMERIC'] = pd.factorize(data_mineria24['NOMBRE_ACT'])[0]\n",
        "data_mineria24['y'] = data_mineria24['LATITUD'].astype(float)\n",
        "data_mineria24['x'] = data_mineria24['LONGITUD'].astype(float)\n",
        "\n",
        "data_mineria24 = data_mineria24.drop(['LATITUD', 'LONGITUD'], axis=1)\n",
        "\n",
        "\n",
        "# Pasar cvs a shp:\n",
        "\n",
        "data_mineria24.to_csv(\"data_mineria24.csv\")\n",
        "\n",
        "# Lee el archivo CSV\n",
        "data_to_shp = pd.read_csv(\"/content/data_mineria24.csv\")\n",
        "\n",
        "# Asegúrate de que tienes columnas de latitud y longitud (ajusta los nombres de las columnas si es necesario)\n",
        "# Por ejemplo, si tienes columnas 'lat' y 'lon' para latitud y longitud:\n",
        "data_to_shp['geometry'] = data_to_shp.apply(lambda row: Point(row['x'], row['y']), axis=1)\n",
        "\n",
        "# Convierte el DataFrame de pandas a GeoDataFrame de geopandas\n",
        "geo_clean_data = gpd.GeoDataFrame(data_to_shp, geometry='geometry')\n",
        "\n",
        "# Establece el sistema de coordenadas adecuado (CRS).\n",
        "# El CRS depende de los datos, un CRS común es WGS84 (EPSG:4326).\n",
        "geo_clean_data.set_crs(epsg=4326, inplace=True)\n",
        "\n",
        "# Guarda el GeoDataFrame como un archivo shapefile (.shp)\n",
        "geo_clean_data.to_file(\"data_mineria24.shp\", driver='ESRI Shapefile')"
      ],
      "metadata": {
        "id": "CnnpG6k2UXIf"
      },
      "execution_count": null,
      "outputs": []
    },
    {
      "cell_type": "code",
      "source": [
        "# Carga de archivos tipo CSV para estrés hídrico y unión de los datasets\n",
        "\n",
        "#data_mineria24['PER_OCU_NUMERIC'].unique()\n",
        "estres = pd.read_csv(\"/content/Estres_Hid_DataFrame.csv\")\n",
        "\n",
        "estres['ESTRES_HID'].max()\n",
        "\n",
        "data1 = pd.read_csv(\"/content/EstresAnual.csv\")\n",
        "data2 = pd.read_csv(\"/content/MapaEstres.csv\")\n",
        "\n",
        "data1 = data1.rename(columns={'Región': 'ORG_CUENCA'})\n",
        "\n",
        "data_full = pd.merge(data1, data2, on='ORG_CUENCA', how='inner')\n",
        "\n",
        "print(data_full)\n",
        "data_full.to_csv(\"data_estres.csv\")\n"
      ],
      "metadata": {
        "id": "8Jk7gcCZXghz"
      },
      "execution_count": null,
      "outputs": []
    }
  ]
}